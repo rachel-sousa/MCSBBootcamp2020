{
 "cells": [
  {
   "cell_type": "markdown",
   "metadata": {},
   "source": [
    "# MCSB Bootcamp \n",
    "\n",
    "Rachel Sousa\n",
    "\n",
    "Simulate a transcription factor diffusion inside the cytoplasm, searching for a nuclear pore complex."
   ]
  },
  {
   "cell_type": "code",
   "execution_count": 1,
   "metadata": {},
   "outputs": [],
   "source": [
    "using PyPlot\n",
    "using LinearAlgebra"
   ]
  },
  {
   "cell_type": "code",
   "execution_count": 2,
   "metadata": {},
   "outputs": [],
   "source": [
    "#numerical parameters\n",
    "dt = 0.001 #s\n",
    "ntmax = 1e6\n",
    "\n",
    "#number of samples\n",
    "NSample = 2000\n",
    "\n",
    "#model parameters \n",
    "D = 10 # microns^2/second\n",
    "L = 10 # microns\n",
    "NPCSize = 0.1 # microns\n",
    "NPCLocation = [-L/2 0]\n",
    "\n",
    "alpha = sqrt(2 * D * dt)\n",
    "\n",
    "#data collections \n",
    "tCapture = zeros(NSample, 1);"
   ]
  },
  {
   "cell_type": "code",
   "execution_count": 3,
   "metadata": {},
   "outputs": [
    {
     "data": {
      "image/png": "[encoded data removed]",
      "text/plain": [
       "Figure(PyObject <Figure size 640x480 with 1 Axes>)"
      ]
     },
     "metadata": {},
     "output_type": "display_data"
    },
    {
     "data": {
      "text/plain": [
       "(-5.0, 5.0)"
      ]
     },
     "execution_count": 3,
     "metadata": {},
     "output_type": "execute_result"
    }
   ],
   "source": [
    "# setting up plot\n",
    "plot(NPCLocation[1], NPCLocation[2], \"o\", color=\"red\", markersize = 10)\n",
    "xlabel(\"x (um)\")\n",
    "ylabel(\"y (um)\")\n",
    "xlim([-L/2, L/2])\n",
    "ylim([-L/2, L/2])"
   ]
  },
  {
   "cell_type": "code",
   "execution_count": 11,
   "metadata": {},
   "outputs": [
    {
     "name": "stdout",
     "output_type": "stream",
     "text": [
      " 35.348726 seconds (794.12 M allocations: 19.418 GiB, 4.36% gc time)\n"
     ]
    }
   ],
   "source": [
    "# plot(NPCLocation[1], NPCLocation[2], \"o\", color=\"red\", markersize = 10)\n",
    "# xlabel(\"x (um)\")\n",
    "# ylabel(\"y (um)\")\n",
    "# xlim([-L/2, L/2])\n",
    "# ylim([-L/2, L/2])\n",
    "\n",
    "@time begin\n",
    "\n",
    "for iSample in 1:NSample\n",
    "    #initial condition \n",
    "    x = [L/2 0]\n",
    "    \n",
    "    t = 0\n",
    "    \n",
    "    for nt in 1:ntmax\n",
    "        #dynamics\n",
    "        x = x + alpha * randn(1,2);\n",
    "        \n",
    "        #boundaries \n",
    "        if x[1] > L/2\n",
    "            x[1] = L/2\n",
    "        elseif x[1] < -L/2\n",
    "            x[1] = -L/2\n",
    "        end\n",
    "        \n",
    "        if x[2] > L/2\n",
    "            x[2] = L/2\n",
    "        elseif x[2] < -L/2\n",
    "            x[2] = -L/2\n",
    "        end\n",
    "        \n",
    "        #test for NPC capture \n",
    "        if ( (x[1] - NPCLocation[1])^2 + (x[2] - NPCLocation[2])^2 < NPCSize^2 )\n",
    "            tCapture[iSample] = t\n",
    "            break\n",
    "        end\n",
    "        \n",
    "#         if false\n",
    "#             plot(x[1], x[2], \"o\", color=\"blue\")\n",
    "#         end\n",
    "\n",
    "        t = t + dt \n",
    "    end #finished loop through time\n",
    "end #finished loop through samples\n",
    "\n",
    "end #end time"
   ]
  },
  {
   "cell_type": "code",
   "execution_count": 9,
   "metadata": {},
   "outputs": [
    {
     "data": {
      "image/png": "[encoded data removed]",
      "text/plain": [
       "Figure(PyObject <Figure size 640x480 with 1 Axes>)"
      ]
     },
     "metadata": {},
     "output_type": "display_data"
    }
   ],
   "source": [
    "hist(tCapture, 50)\n",
    "yscale(\"log\")"
   ]
  },
  {
   "cell_type": "code",
   "execution_count": null,
   "metadata": {},
   "outputs": [],
   "source": []
  }
 ],
 "metadata": {
  "kernelspec": {
   "display_name": "Julia 1.4.2",
   "language": "julia",
   "name": "julia-1.4"
  },
  "language_info": {
   "file_extension": ".jl",
   "mimetype": "application/julia",
   "name": "julia",
   "version": "1.4.2"
  }
 },
 "nbformat": 4,
 "nbformat_minor": 2
}
