{
 "cells": [
  {
   "cell_type": "markdown",
   "metadata": {},
   "source": [
    "# MCSB Bootcamp \n",
    "\n",
    "Rachel Sousa\n",
    "\n",
    "Simulate a transcription factor diffusion inside the cytoplasm, searching for a nuclear pore complex."
   ]
  },
  {
   "cell_type": "code",
   "execution_count": 1,
   "metadata": {},
   "outputs": [],
   "source": [
    "using PyPlot\n",
    "using LinearAlgebra"
   ]
  },
  {
   "cell_type": "code",
   "execution_count": 2,
   "metadata": {},
   "outputs": [],
   "source": [
    "#numerical parameters\n",
    "dt = 0.001 #s\n",
    "ntmax = 1e6\n",
    "\n",
    "#number of samples\n",
    "NSample = 2000\n",
    "\n",
    "#model parameters \n",
    "D = 10 # microns^2/second\n",
    "L = 10 # microns\n",
    "init = L/2\n",
    "NPCSize = 0.1 # microns\n",
    "NPCLocation = [-L/2 0]\n",
    "\n",
    "alpha = sqrt(2 * D * dt)\n",
    "\n",
    "#data collections \n",
    "tCapture = zeros(NSample, 1);"
   ]
  },
  {
   "cell_type": "code",
   "execution_count": 3,
   "metadata": {},
   "outputs": [
    {
     "data": {
      "text/plain": [
       "check_boundary (generic function with 1 method)"
      ]
     },
     "execution_count": 3,
     "metadata": {},
     "output_type": "execute_result"
    }
   ],
   "source": [
    "function check_boundary(x)\n",
    "    if x[1] > init\n",
    "        x[1] = init\n",
    "    elseif x[1] < -init\n",
    "        x[1] = -init\n",
    "    end\n",
    "        \n",
    "    if x[2] > init\n",
    "        x[2] = init\n",
    "    elseif x[2] < -init\n",
    "        x[2] = -init\n",
    "    end\n",
    "    return x\n",
    "end"
   ]
  },
  {
   "cell_type": "code",
   "execution_count": 6,
   "metadata": {},
   "outputs": [
    {
     "name": "stdout",
     "output_type": "stream",
     "text": [
      " 25.677812 seconds (693.77 M allocations: 17.549 GiB, 7.19% gc time)\n"
     ]
    }
   ],
   "source": [
    "# plot(NPCLocation[1], NPCLocation[2], \"o\", color=\"red\", markersize = 10)\n",
    "# xlabel(\"x (um)\")\n",
    "# ylabel(\"y (um)\")\n",
    "# xlim([-L/2, L/2])\n",
    "# ylim([-L/2, L/2])\n",
    "\n",
    "@time begin #start time\n",
    "\n",
    "for iSample in 1:NSample\n",
    "    #initial condition \n",
    "    x = [init 0]\n",
    "    \n",
    "    t = 0\n",
    "    \n",
    "    for nt in 1:ntmax\n",
    "        #dynamics\n",
    "        x += alpha * randn(1,2)\n",
    "        \n",
    "        #boundaries \n",
    "        x = check_boundary(x)\n",
    "        \n",
    "        #test for NPC capture \n",
    "        if ( (x[1] - NPCLocation[1])^2 + (x[2] - NPCLocation[2])^2 < NPCSize^2 )\n",
    "            tCapture[iSample] = t\n",
    "            break\n",
    "        end\n",
    "        \n",
    "#         if false\n",
    "#             plot(x[1], x[2], \"o\", color=\"blue\")\n",
    "#         end\n",
    "\n",
    "        t = t + dt \n",
    "            \n",
    "    end #finished loop through time\n",
    "end #finished loop through samples\n",
    "\n",
    "end #end time"
   ]
  },
  {
   "cell_type": "code",
   "execution_count": 5,
   "metadata": {},
   "outputs": [
    {
     "data": {
      "image/png": "[encoded data removed]",
      "text/plain": [
       "Figure(PyObject <Figure size 640x480 with 1 Axes>)"
      ]
     },
     "metadata": {},
     "output_type": "display_data"
    }
   ],
   "source": [
    "hist(tCapture, 50)\n",
    "yscale(\"log\")"
   ]
  },
  {
   "cell_type": "code",
   "execution_count": null,
   "metadata": {},
   "outputs": [],
   "source": []
  }
 ],
 "metadata": {
  "kernelspec": {
   "display_name": "Julia 1.4.2",
   "language": "julia",
   "name": "julia-1.4"
  },
  "language_info": {
   "file_extension": ".jl",
   "mimetype": "application/julia",
   "name": "julia",
   "version": "1.4.2"
  }
 },
 "nbformat": 4,
 "nbformat_minor": 2
}
